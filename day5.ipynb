{
  "nbformat": 4,
  "nbformat_minor": 0,
  "metadata": {
    "colab": {
      "name": "day5.ipynb",
      "provenance": [],
      "mount_file_id": "1vrpTZQEjB06BOrXdsyiAyjBmdsDnMBjb",
      "authorship_tag": "ABX9TyPCsKj44eWWUgwIdpvHD0nt",
      "include_colab_link": true
    },
    "kernelspec": {
      "name": "python3",
      "display_name": "Python 3"
    },
    "accelerator": "GPU"
  },
  "cells": [
    {
      "cell_type": "markdown",
      "metadata": {
        "id": "view-in-github",
        "colab_type": "text"
      },
      "source": [
        "<a href=\"https://colab.research.google.com/github/bartek-miskowiec/dw-matrix-3/blob/master/day5.ipynb\" target=\"_parent\"><img src=\"https://colab.research.google.com/assets/colab-badge.svg\" alt=\"Open In Colab\"/></a>"
      ]
    },
    {
      "cell_type": "code",
      "metadata": {
        "id": "h-4rxEXw4Ypr",
        "colab_type": "code",
        "colab": {
          "base_uri": "https://localhost:8080/",
          "height": 185
        },
        "outputId": "71847ebb-4545-41f9-a45d-830dc88ad098"
      },
      "source": [
        "!pip install hyperopt"
      ],
      "execution_count": 1,
      "outputs": [
        {
          "output_type": "stream",
          "text": [
            "Requirement already satisfied: hyperopt in /usr/local/lib/python3.6/dist-packages (0.1.2)\n",
            "Requirement already satisfied: numpy in /usr/local/lib/python3.6/dist-packages (from hyperopt) (1.18.2)\n",
            "Requirement already satisfied: tqdm in /usr/local/lib/python3.6/dist-packages (from hyperopt) (4.38.0)\n",
            "Requirement already satisfied: six in /usr/local/lib/python3.6/dist-packages (from hyperopt) (1.12.0)\n",
            "Requirement already satisfied: future in /usr/local/lib/python3.6/dist-packages (from hyperopt) (0.16.0)\n",
            "Requirement already satisfied: networkx in /usr/local/lib/python3.6/dist-packages (from hyperopt) (2.4)\n",
            "Requirement already satisfied: pymongo in /usr/local/lib/python3.6/dist-packages (from hyperopt) (3.10.1)\n",
            "Requirement already satisfied: scipy in /usr/local/lib/python3.6/dist-packages (from hyperopt) (1.4.1)\n",
            "Requirement already satisfied: decorator>=4.3.0 in /usr/local/lib/python3.6/dist-packages (from networkx->hyperopt) (4.4.2)\n"
          ],
          "name": "stdout"
        }
      ]
    },
    {
      "cell_type": "code",
      "metadata": {
        "id": "RoIzI1X16_Qu",
        "colab_type": "code",
        "colab": {}
      },
      "source": [
        "import pandas as pd\n",
        "import numpy as np\n",
        "\n",
        "import os\n",
        "import datetime\n",
        "\n",
        "import tensorflow as tf\n",
        "from tensorflow.keras.models import Sequential\n",
        "from tensorflow.keras.layers import Conv2D, MaxPool2D, Dense, Flatten, Dropout\n",
        "from tensorflow.keras.utils import to_categorical\n",
        "\n",
        "%load_ext tensorboard\n",
        "\n",
        "import matplotlib.pyplot as plt\n",
        "from skimage import color, exposure\n",
        "\n",
        "from sklearn.metrics import accuracy_score\n",
        "from hyperopt import hp, STATUS_OK, tpe, Trials, fmin"
      ],
      "execution_count": 0,
      "outputs": []
    },
    {
      "cell_type": "code",
      "metadata": {
        "id": "lZ1kdRkW6_bP",
        "colab_type": "code",
        "colab": {
          "base_uri": "https://localhost:8080/",
          "height": 36
        },
        "outputId": "88ff4f6b-6103-4862-ef55-59bf74b4f5e3"
      },
      "source": [
        "cd '/content/drive/My Drive/Colab Notebooks/matrix/matrix_three/dw_matrix_road_sign'"
      ],
      "execution_count": 3,
      "outputs": [
        {
          "output_type": "stream",
          "text": [
            "/content/drive/My Drive/Colab Notebooks/matrix/matrix_three/dw_matrix_road_sign\n"
          ],
          "name": "stdout"
        }
      ]
    },
    {
      "cell_type": "code",
      "metadata": {
        "id": "x_1H9P186_ec",
        "colab_type": "code",
        "colab": {}
      },
      "source": [
        "train = pd.read_pickle('data/train.p')\n",
        "test = pd.read_pickle('data/test.p')\n",
        "\n",
        "X_train, y_train = train['features'], train['labels']\n",
        "X_test, y_test = test['features'], test['labels']"
      ],
      "execution_count": 0,
      "outputs": []
    },
    {
      "cell_type": "code",
      "metadata": {
        "id": "bYEcqEA_6_g-",
        "colab_type": "code",
        "colab": {}
      },
      "source": [
        "if y_train.ndim == 1: y_train = to_categorical(y_train)\n",
        "if y_test.ndim == 1: y_test = to_categorical(y_test)\n",
        "\n",
        "input_shape = X_train.shape[1:]\n",
        "num_classes = y_train.shape[1]"
      ],
      "execution_count": 0,
      "outputs": []
    },
    {
      "cell_type": "code",
      "metadata": {
        "id": "hJXOqkRo6_j9",
        "colab_type": "code",
        "colab": {}
      },
      "source": [
        "def train_model(model, X_train, y_train, params_fit={}):\n",
        "  model.compile(loss='categorical_crossentropy', optimizer='Adam', metrics=['accuracy'])\n",
        "\n",
        "  logdir = os.path.join(\"logs\", datetime.datetime.now().strftime(\"%Y%m%d-%H%M%S\"))\n",
        "  tensorboard_callback = tf.keras.callbacks.TensorBoard(logdir, histogram_freq=1)\n",
        "  \n",
        "  model.fit(\n",
        "      X_train, \n",
        "      y_train,\n",
        "      batch_size=params_fit.get('batch_size', 128),\n",
        "      epochs=params_fit.get('epochs', 5),\n",
        "      verbose=params_fit.get('verbose', 1),\n",
        "      validation_data=params_fit.get('validation_data',(X_train, y_train)),\n",
        "      callbacks=[tensorboard_callback]\n",
        "  )\n",
        "\n",
        "  return model\n",
        "\n",
        "def predict(model_trained, X_test, y_test, scoring=accuracy_score):\n",
        "  y_test_norm = np.argmax(y_test, axis=1)\n",
        "\n",
        "  y_pred_prob = model_trained.predict(X_test)\n",
        "  y_pred = np.argmax(y_pred_prob, axis=1)\n",
        "\n",
        "  return scoring(y_test_norm, y_pred)"
      ],
      "execution_count": 0,
      "outputs": []
    },
    {
      "cell_type": "code",
      "metadata": {
        "id": "r8uCTTnd6_nn",
        "colab_type": "code",
        "colab": {}
      },
      "source": [
        "def get_cnn_v5(input_shape, num_classes):\n",
        "  return Sequential([\n",
        "  Conv2D(filters=32, kernel_size=(3,3), activation='relu',input_shape=input_shape),\n",
        "  Conv2D(filters=32, kernel_size=(3,3), activation='relu', padding='same'),\n",
        "  MaxPool2D(),\n",
        "  Dropout(0.3),\n",
        "\n",
        "  Conv2D(filters=64, kernel_size=(3,3), activation='relu', padding='same'),\n",
        "  Conv2D(filters=64, kernel_size=(3,3), activation='relu'),\n",
        "  #MaxPool2D(),\n",
        "  Dropout(0.3),\n",
        "\n",
        "  Conv2D(filters=64, kernel_size=(3,3), activation='relu', padding='same'),\n",
        "  Conv2D(filters=64, kernel_size=(3,3), activation='relu'),\n",
        "  MaxPool2D(),\n",
        "  Dropout(0.3),\n",
        "\n",
        "  Flatten(),\n",
        "\n",
        "  Dense(1024, activation='relu'),\n",
        "  Dropout(0.3),\n",
        "\n",
        "  Dense(1024, activation='relu'),\n",
        "  Dropout(0.3),\n",
        "\n",
        "  Dense(num_classes, activation='softmax')\n",
        "  ])"
      ],
      "execution_count": 0,
      "outputs": []
    },
    {
      "cell_type": "code",
      "metadata": {
        "id": "IFNV33np6_qm",
        "colab_type": "code",
        "colab": {
          "base_uri": "https://localhost:8080/",
          "height": 223
        },
        "outputId": "9cba02d2-bc1e-470c-f9c9-4721fc019e52"
      },
      "source": [
        "model = get_cnn_v5(input_shape, num_classes)\n",
        "model_trained = train_model(model, X_train, y_train, params_fit={})\n",
        "\n",
        "predict(model_trained, X_test, y_test)"
      ],
      "execution_count": 8,
      "outputs": [
        {
          "output_type": "stream",
          "text": [
            "Epoch 1/5\n",
            "272/272 [==============================] - 8s 29ms/step - loss: 2.5345 - accuracy: 0.3583 - val_loss: 0.4721 - val_accuracy: 0.8743\n",
            "Epoch 2/5\n",
            "272/272 [==============================] - 7s 27ms/step - loss: 0.4898 - accuracy: 0.8511 - val_loss: 0.0802 - val_accuracy: 0.9787\n",
            "Epoch 3/5\n",
            "272/272 [==============================] - 7s 27ms/step - loss: 0.2307 - accuracy: 0.9301 - val_loss: 0.0349 - val_accuracy: 0.9898\n",
            "Epoch 4/5\n",
            "272/272 [==============================] - 7s 27ms/step - loss: 0.1611 - accuracy: 0.9525 - val_loss: 0.0346 - val_accuracy: 0.9900\n",
            "Epoch 5/5\n",
            "272/272 [==============================] - 7s 27ms/step - loss: 0.1318 - accuracy: 0.9616 - val_loss: 0.0264 - val_accuracy: 0.9921\n"
          ],
          "name": "stdout"
        },
        {
          "output_type": "execute_result",
          "data": {
            "text/plain": [
              "0.9734693877551021"
            ]
          },
          "metadata": {
            "tags": []
          },
          "execution_count": 8
        }
      ]
    },
    {
      "cell_type": "code",
      "metadata": {
        "id": "7gvwMDhH-_uQ",
        "colab_type": "code",
        "colab": {
          "base_uri": "https://localhost:8080/",
          "height": 54
        },
        "outputId": "67dcdf9c-2b12-4cb6-d905-5e52c3027322"
      },
      "source": [
        "model_trained.evaluate(X_test, y_test)[1]"
      ],
      "execution_count": 9,
      "outputs": [
        {
          "output_type": "stream",
          "text": [
            "138/138 [==============================] - 0s 3ms/step - loss: 0.0959 - accuracy: 0.9735\n"
          ],
          "name": "stdout"
        },
        {
          "output_type": "execute_result",
          "data": {
            "text/plain": [
              "0.9734693765640259"
            ]
          },
          "metadata": {
            "tags": []
          },
          "execution_count": 9
        }
      ]
    },
    {
      "cell_type": "code",
      "metadata": {
        "id": "XbKNm3ykDjlw",
        "colab_type": "code",
        "colab": {}
      },
      "source": [
        "def get_model(params):\n",
        "  return Sequential([\n",
        "  Conv2D(filters=32, kernel_size=(3,3), activation='relu',input_shape=input_shape),\n",
        "  Conv2D(filters=32, kernel_size=(3,3), activation='relu', padding='same'),\n",
        "  MaxPool2D(),\n",
        "  Dropout(params['dropout_cnn_block_one']),\n",
        "\n",
        "  Conv2D(filters=64, kernel_size=(3,3), activation='relu', padding='same'),\n",
        "  Conv2D(filters=64, kernel_size=(3,3), activation='relu'),\n",
        "  #MaxPool2D(),\n",
        "  Dropout(params['dropout_cnn_block_two']),\n",
        "\n",
        "  Conv2D(filters=128, kernel_size=(3,3), activation='relu', padding='same'),\n",
        "  Conv2D(filters=128, kernel_size=(3,3), activation='relu'),\n",
        "  MaxPool2D(),\n",
        "  Dropout(params['dropout_cnn_block_three']),\n",
        "\n",
        "  Flatten(),\n",
        "\n",
        "  Dense(1024, activation='relu'),\n",
        "  Dropout(params['dropout_dense_block_one']),\n",
        "\n",
        "  Dense(1024, activation='relu'),\n",
        "  Dropout(params['dropout_dense_block_two']),\n",
        "\n",
        "  Dense(num_classes, activation='softmax')\n",
        "  ])"
      ],
      "execution_count": 0,
      "outputs": []
    },
    {
      "cell_type": "code",
      "metadata": {
        "id": "vb0z6Qg06_vr",
        "colab_type": "code",
        "colab": {}
      },
      "source": [
        "def func_obj(params):\n",
        "  model = get_model(params)\n",
        "  model.compile(loss='categorical_crossentropy', optimizer='Adam', metrics=['accuracy'])\n",
        "\n",
        "  model.fit(\n",
        "      X_train, \n",
        "      y_train,\n",
        "      batch_size=int(params.get('batch_size', 128)),\n",
        "      epochs=5,\n",
        "      verbose=0\n",
        "  )\n",
        "\n",
        "  score = model.evaluate(X_test, y_test, verbose=0)\n",
        "  accuracy = score[1]\n",
        "  print(params, 'accuracy={}'.format(accuracy))\n",
        "\n",
        "  return {'loss': -accuracy, 'status': STATUS_OK, 'model': model}"
      ],
      "execution_count": 0,
      "outputs": []
    },
    {
      "cell_type": "code",
      "metadata": {
        "id": "mZNFsjiB6_yG",
        "colab_type": "code",
        "colab": {
          "base_uri": "https://localhost:8080/",
          "height": 1000
        },
        "outputId": "f77e5e6d-0fc4-4f3a-a6e3-cb4130c1938c"
      },
      "source": [
        "space = {\n",
        "    'batch_size': hp.quniform('batch_size', 100, 200, 10),\n",
        "    'dropout_cnn_block_one': hp.uniform('dropout_cnn_block_one', 0.3, 0.5),\n",
        "    'dropout_cnn_block_two': hp.uniform('dropout_cnn_block_two', 0.3, 0.5),\n",
        "    'dropout_cnn_block_three': hp.uniform('dropout_cnn_block_three', 0.3, 0.5),\n",
        "    'dropout_dense_block_one': hp.uniform('dropout_dense_block_one', 0.3, 0.7),\n",
        "    'dropout_dense_block_two': hp.uniform('dropout_dense_block_two', 0.3, 0.7)\n",
        "}\n",
        "\n",
        "best = fmin(\n",
        "    func_obj,\n",
        "    space,\n",
        "    tpe.suggest,\n",
        "    30,\n",
        "    Trials()\n",
        ")"
      ],
      "execution_count": 15,
      "outputs": [
        {
          "output_type": "stream",
          "text": [
            "{'batch_size': 180.0, 'dropout_cnn_block_one': 0.43689208401008706, 'dropout_cnn_block_three': 0.439280010501527, 'dropout_cnn_block_two': 0.4709321215861476, 'dropout_dense_block_one': 0.3689508609376556, 'dropout_dense_block_two': 0.6017559808436197}\n",
            "accuracy=0.945805013179779\n",
            "{'batch_size': 190.0, 'dropout_cnn_block_one': 0.42650715222620056, 'dropout_cnn_block_three': 0.46961773999654943, 'dropout_cnn_block_two': 0.43536079159889207, 'dropout_dense_block_one': 0.6703480980651533, 'dropout_dense_block_two': 0.6840507999106246}\n",
            "accuracy=0.9292517304420471\n",
            "{'batch_size': 190.0, 'dropout_cnn_block_one': 0.43245385390759494, 'dropout_cnn_block_three': 0.34586945822855136, 'dropout_cnn_block_two': 0.46609728547070384, 'dropout_dense_block_one': 0.588179365657347, 'dropout_dense_block_two': 0.43900086997275356}\n",
            "accuracy=0.956462562084198\n",
            "{'batch_size': 170.0, 'dropout_cnn_block_one': 0.305547489494227, 'dropout_cnn_block_three': 0.3242369819693237, 'dropout_cnn_block_two': 0.4883290567462545, 'dropout_dense_block_one': 0.42808652794059904, 'dropout_dense_block_two': 0.6854145179109068}\n",
            "accuracy=0.960544228553772\n",
            "{'batch_size': 160.0, 'dropout_cnn_block_one': 0.4304628936584737, 'dropout_cnn_block_three': 0.40467312569317343, 'dropout_cnn_block_two': 0.3371434298489793, 'dropout_dense_block_one': 0.4387267037693199, 'dropout_dense_block_two': 0.47497917690883484}\n",
            "accuracy=0.9535147547721863\n",
            "{'batch_size': 150.0, 'dropout_cnn_block_one': 0.4343011739731682, 'dropout_cnn_block_three': 0.3374934394701015, 'dropout_cnn_block_two': 0.38671137254628957, 'dropout_dense_block_one': 0.6184456070601798, 'dropout_dense_block_two': 0.4696577396882642}\n",
            "accuracy=0.9471655488014221\n",
            "{'batch_size': 140.0, 'dropout_cnn_block_one': 0.32588361666216575, 'dropout_cnn_block_three': 0.4959290210683571, 'dropout_cnn_block_two': 0.3176286032523354, 'dropout_dense_block_one': 0.543058181654158, 'dropout_dense_block_two': 0.6191791811643446}\n",
            "accuracy=0.96417236328125\n",
            "{'batch_size': 120.0, 'dropout_cnn_block_one': 0.3999448131092205, 'dropout_cnn_block_three': 0.4286739751000136, 'dropout_cnn_block_two': 0.3629448496782208, 'dropout_dense_block_one': 0.45172919950773405, 'dropout_dense_block_two': 0.5549586233200179}\n",
            "accuracy=0.9512471556663513\n",
            "{'batch_size': 130.0, 'dropout_cnn_block_one': 0.45532505396290257, 'dropout_cnn_block_three': 0.328675542012549, 'dropout_cnn_block_two': 0.40207626011936676, 'dropout_dense_block_one': 0.37602110129596084, 'dropout_dense_block_two': 0.35899755476354045}\n",
            "accuracy=0.9501133561134338\n",
            "{'batch_size': 110.0, 'dropout_cnn_block_one': 0.30607683602271946, 'dropout_cnn_block_three': 0.44062077631282426, 'dropout_cnn_block_two': 0.47405017665630933, 'dropout_dense_block_one': 0.6114893321724466, 'dropout_dense_block_two': 0.5613430394031137}\n",
            "accuracy=0.9628117680549622\n",
            "{'batch_size': 120.0, 'dropout_cnn_block_one': 0.3672568700149344, 'dropout_cnn_block_three': 0.4348084454114547, 'dropout_cnn_block_two': 0.4246431907788157, 'dropout_dense_block_one': 0.6085891497664917, 'dropout_dense_block_two': 0.5338691336240294}\n",
            "accuracy=0.9705215692520142\n",
            "{'batch_size': 180.0, 'dropout_cnn_block_one': 0.48338780615572663, 'dropout_cnn_block_three': 0.3045399475537756, 'dropout_cnn_block_two': 0.39567422498803256, 'dropout_dense_block_one': 0.37314241813169, 'dropout_dense_block_two': 0.5839328411325724}\n",
            "accuracy=0.9514739513397217\n",
            "{'batch_size': 180.0, 'dropout_cnn_block_one': 0.4463828934802324, 'dropout_cnn_block_three': 0.305331112831768, 'dropout_cnn_block_two': 0.4305100493393673, 'dropout_dense_block_one': 0.4805464196581809, 'dropout_dense_block_two': 0.6614802229789861}\n",
            "accuracy=0.9492063522338867\n",
            "{'batch_size': 170.0, 'dropout_cnn_block_one': 0.38679386658195736, 'dropout_cnn_block_three': 0.4120892690516068, 'dropout_cnn_block_two': 0.3657673329976412, 'dropout_dense_block_one': 0.444268543368862, 'dropout_dense_block_two': 0.4482403883115441}\n",
            "accuracy=0.9657596349716187\n",
            "{'batch_size': 170.0, 'dropout_cnn_block_one': 0.389964434089618, 'dropout_cnn_block_three': 0.48874927278781743, 'dropout_cnn_block_two': 0.47209790745522406, 'dropout_dense_block_one': 0.6417633686810589, 'dropout_dense_block_two': 0.31220356937466637}\n",
            "accuracy=0.9557822942733765\n",
            "{'batch_size': 160.0, 'dropout_cnn_block_one': 0.4589904559220623, 'dropout_cnn_block_three': 0.4639864813276065, 'dropout_cnn_block_two': 0.3069766972488301, 'dropout_dense_block_one': 0.5033623117125576, 'dropout_dense_block_two': 0.4502677706477984}\n",
            "accuracy=0.9741496443748474\n",
            "{'batch_size': 150.0, 'dropout_cnn_block_one': 0.48764058243968494, 'dropout_cnn_block_three': 0.3237359161974341, 'dropout_cnn_block_two': 0.37399855174933927, 'dropout_dense_block_one': 0.5428673878044185, 'dropout_dense_block_two': 0.5248429251187099}\n",
            "accuracy=0.9571428298950195\n",
            "{'batch_size': 160.0, 'dropout_cnn_block_one': 0.4126266022729477, 'dropout_cnn_block_three': 0.45410130961499334, 'dropout_cnn_block_two': 0.4116396447296812, 'dropout_dense_block_one': 0.4971299363266787, 'dropout_dense_block_two': 0.5700196822698707}\n",
            "accuracy=0.9693877696990967\n",
            "{'batch_size': 130.0, 'dropout_cnn_block_one': 0.46475083151496155, 'dropout_cnn_block_three': 0.491862784633663, 'dropout_cnn_block_two': 0.4731282076026881, 'dropout_dense_block_one': 0.6622631387954068, 'dropout_dense_block_two': 0.4490192552453141}\n",
            "accuracy=0.9544217586517334\n",
            "{'batch_size': 100.0, 'dropout_cnn_block_one': 0.3509898696511561, 'dropout_cnn_block_three': 0.48578397944005786, 'dropout_cnn_block_two': 0.3356852911238211, 'dropout_dense_block_one': 0.37991293296823764, 'dropout_dense_block_two': 0.40459495243204446}\n",
            "accuracy=0.958276629447937\n",
            "{'batch_size': 100.0, 'dropout_cnn_block_one': 0.36277893901253333, 'dropout_cnn_block_three': 0.3814808941516815, 'dropout_cnn_block_two': 0.3038179727103605, 'dropout_dense_block_one': 0.5605387902335817, 'dropout_dense_block_two': 0.5120514954269294}\n",
            "accuracy=0.9684807062149048\n",
            "{'batch_size': 140.0, 'dropout_cnn_block_one': 0.3699017772193729, 'dropout_cnn_block_three': 0.3803735346118324, 'dropout_cnn_block_two': 0.4469269010103956, 'dropout_dense_block_one': 0.6983066450145681, 'dropout_dense_block_two': 0.3999295242414346}\n",
            "accuracy=0.9607709646224976\n",
            "{'batch_size': 120.0, 'dropout_cnn_block_one': 0.3357937176176343, 'dropout_cnn_block_three': 0.46521476496150127, 'dropout_cnn_block_two': 0.4191537016006111, 'dropout_dense_block_one': 0.5137172607096611, 'dropout_dense_block_two': 0.3496072483917442}\n",
            "accuracy=0.9673469662666321\n",
            "{'batch_size': 140.0, 'dropout_cnn_block_one': 0.4992196303392747, 'dropout_cnn_block_three': 0.4216594711953048, 'dropout_cnn_block_two': 0.49775089123187327, 'dropout_dense_block_one': 0.33251823488349064, 'dropout_dense_block_two': 0.5305191167857305}\n",
            "accuracy=0.9523809552192688\n",
            "{'batch_size': 110.0, 'dropout_cnn_block_one': 0.41160490493158824, 'dropout_cnn_block_three': 0.38789896373579213, 'dropout_cnn_block_two': 0.4494628701012326, 'dropout_dense_block_one': 0.5772297531084686, 'dropout_dense_block_two': 0.49213306031639664}\n",
            "accuracy=0.9575963616371155\n",
            "{'batch_size': 160.0, 'dropout_cnn_block_one': 0.3717943475473846, 'dropout_cnn_block_three': 0.4719119842426504, 'dropout_cnn_block_two': 0.30176416319330646, 'dropout_dense_block_one': 0.5192165178430033, 'dropout_dense_block_two': 0.3916467359629956}\n",
            "accuracy=0.9562358260154724\n",
            "{'batch_size': 130.0, 'dropout_cnn_block_one': 0.47091316571294495, 'dropout_cnn_block_three': 0.4438140017612958, 'dropout_cnn_block_two': 0.35161994545639486, 'dropout_dense_block_one': 0.4718239431402058, 'dropout_dense_block_two': 0.6524104463891993}\n",
            "accuracy=0.9383220076560974\n",
            "{'batch_size': 110.0, 'dropout_cnn_block_one': 0.33395466326675355, 'dropout_cnn_block_three': 0.4245024093982981, 'dropout_cnn_block_two': 0.37959639843377646, 'dropout_dense_block_one': 0.6905145522287477, 'dropout_dense_block_two': 0.3127082422568587}\n",
            "accuracy=0.9689342379570007\n",
            "{'batch_size': 120.0, 'dropout_cnn_block_one': 0.4120267205829913, 'dropout_cnn_block_three': 0.3689147870045453, 'dropout_cnn_block_two': 0.41837337440974987, 'dropout_dense_block_one': 0.41757538018464474, 'dropout_dense_block_two': 0.5995329721600854}\n",
            "accuracy=0.9521542191505432\n",
            "{'batch_size': 200.0, 'dropout_cnn_block_one': 0.3540473265984931, 'dropout_cnn_block_three': 0.45576508822834005, 'dropout_cnn_block_two': 0.45701948289342215, 'dropout_dense_block_one': 0.6347496967276078, 'dropout_dense_block_two': 0.4886778685151257}\n",
            "accuracy=0.9510204195976257\n",
            "100%|██████████| 30/30 [14:29<00:00, 28.98s/it, best loss: -0.9741496443748474]\n"
          ],
          "name": "stdout"
        }
      ]
    },
    {
      "cell_type": "code",
      "metadata": {
        "id": "1-gpKCkl6_08",
        "colab_type": "code",
        "colab": {}
      },
      "source": [
        ""
      ],
      "execution_count": 0,
      "outputs": []
    },
    {
      "cell_type": "code",
      "metadata": {
        "id": "J2PnRA206_5J",
        "colab_type": "code",
        "colab": {}
      },
      "source": [
        ""
      ],
      "execution_count": 0,
      "outputs": []
    },
    {
      "cell_type": "code",
      "metadata": {
        "id": "BkDBYS1G6_tp",
        "colab_type": "code",
        "colab": {}
      },
      "source": [
        ""
      ],
      "execution_count": 0,
      "outputs": []
    }
  ]
}